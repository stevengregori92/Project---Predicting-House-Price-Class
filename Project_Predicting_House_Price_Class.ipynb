{
  "cells": [
    {
      "cell_type": "markdown",
      "metadata": {
        "id": "view-in-github",
        "colab_type": "text"
      },
      "source": [
        "<a href=\"https://colab.research.google.com/github/stevengregori92/Project---Predicting-House-Price-Class/blob/main/Project_Predicting_House_Price_Class.ipynb\" target=\"_parent\"><img src=\"https://colab.research.google.com/assets/colab-badge.svg\" alt=\"Open In Colab\"/></a>"
      ]
    },
    {
      "cell_type": "markdown",
      "id": "39c877c9",
      "metadata": {
        "id": "39c877c9"
      },
      "source": [
        "# Project - Parameters with Highest Impact on House Price Class"
      ]
    },
    {
      "cell_type": "markdown",
      "id": "26869a35",
      "metadata": {
        "id": "26869a35"
      },
      "source": [
        "![Data Science Workflow](img/ds-workflow.png)"
      ]
    },
    {
      "cell_type": "markdown",
      "id": "52f66758",
      "metadata": {
        "id": "52f66758"
      },
      "source": [
        "## Goal of Project\n",
        "- The real estate dealer from last assignment calls back and clarifies his objective\n",
        "- Not so interested in finding what matters most to find house price, but more in which range a house is in.\n",
        "- There are 3 classes: 33% cheapest, 33% mid-range, 33% expensive houses.\n",
        "- He needs to find which 10 parameters matters most to determine that"
      ]
    },
    {
      "cell_type": "markdown",
      "id": "77f362c4",
      "metadata": {
        "id": "77f362c4"
      },
      "source": [
        "## Step 1: Acquire\n",
        "- Explore problem\n",
        "- Identify data\n",
        "- Import data"
      ]
    },
    {
      "cell_type": "markdown",
      "id": "6f8cbbcb",
      "metadata": {
        "id": "6f8cbbcb"
      },
      "source": [
        "### Step 1.a: Import libraries\n",
        "- Execute the cell below (SHIFT + ENTER)\n",
        "- NOTE: You might need to install mlxtend, if so, run the following in a cell\n",
        "```\n",
        "!pip install mlxtend\n",
        "```"
      ]
    },
    {
      "cell_type": "code",
      "execution_count": null,
      "id": "6f193148",
      "metadata": {
        "colab": {
          "base_uri": "https://localhost:8080/"
        },
        "id": "6f193148",
        "outputId": "0adac48e-df7c-4887-e3c6-fa977aae68e1"
      },
      "outputs": [
        {
          "output_type": "stream",
          "name": "stdout",
          "text": [
            "Looking in indexes: https://pypi.org/simple, https://us-python.pkg.dev/colab-wheels/public/simple/\n",
            "Requirement already satisfied: mlxtend in /usr/local/lib/python3.8/dist-packages (0.21.0)\n",
            "Requirement already satisfied: scikit-learn>=1.0.2 in /usr/local/lib/python3.8/dist-packages (from mlxtend) (1.0.2)\n",
            "Requirement already satisfied: setuptools in /usr/local/lib/python3.8/dist-packages (from mlxtend) (57.4.0)\n",
            "Requirement already satisfied: numpy>=1.16.2 in /usr/local/lib/python3.8/dist-packages (from mlxtend) (1.21.6)\n",
            "Requirement already satisfied: joblib>=0.13.2 in /usr/local/lib/python3.8/dist-packages (from mlxtend) (1.2.0)\n",
            "Requirement already satisfied: matplotlib>=3.0.0 in /usr/local/lib/python3.8/dist-packages (from mlxtend) (3.2.2)\n",
            "Requirement already satisfied: scipy>=1.2.1 in /usr/local/lib/python3.8/dist-packages (from mlxtend) (1.7.3)\n",
            "Requirement already satisfied: pandas>=0.24.2 in /usr/local/lib/python3.8/dist-packages (from mlxtend) (1.3.5)\n",
            "Requirement already satisfied: kiwisolver>=1.0.1 in /usr/local/lib/python3.8/dist-packages (from matplotlib>=3.0.0->mlxtend) (1.4.4)\n",
            "Requirement already satisfied: pyparsing!=2.0.4,!=2.1.2,!=2.1.6,>=2.0.1 in /usr/local/lib/python3.8/dist-packages (from matplotlib>=3.0.0->mlxtend) (3.0.9)\n",
            "Requirement already satisfied: cycler>=0.10 in /usr/local/lib/python3.8/dist-packages (from matplotlib>=3.0.0->mlxtend) (0.11.0)\n",
            "Requirement already satisfied: python-dateutil>=2.1 in /usr/local/lib/python3.8/dist-packages (from matplotlib>=3.0.0->mlxtend) (2.8.2)\n",
            "Requirement already satisfied: pytz>=2017.3 in /usr/local/lib/python3.8/dist-packages (from pandas>=0.24.2->mlxtend) (2022.7.1)\n",
            "Requirement already satisfied: threadpoolctl>=2.0.0 in /usr/local/lib/python3.8/dist-packages (from scikit-learn>=1.0.2->mlxtend) (3.1.0)\n",
            "Requirement already satisfied: six>=1.5 in /usr/local/lib/python3.8/dist-packages (from python-dateutil>=2.1->matplotlib>=3.0.0->mlxtend) (1.15.0)\n"
          ]
        }
      ],
      "source": [
        "!pip install --upgrade mlxtend"
      ]
    },
    {
      "cell_type": "code",
      "source": [
        "import pandas as pd\n",
        "import numpy as np\n",
        "from sklearn.model_selection import train_test_split\n",
        "from sklearn.feature_selection import VarianceThreshold\n",
        "from mlxtend.feature_selection import SequentialFeatureSelector as SFS\n",
        "from sklearn.neighbors import KNeighborsClassifier"
      ],
      "metadata": {
        "id": "-2P7e50pyYxi"
      },
      "id": "-2P7e50pyYxi",
      "execution_count": null,
      "outputs": []
    },
    {
      "cell_type": "markdown",
      "id": "b5f9a799",
      "metadata": {
        "id": "b5f9a799"
      },
      "source": [
        "### Step 1.b: Read the data\n",
        "- Use ```pd.read_parquet()``` to read the file `files/house_sales.parquet`\n",
        "- NOTE: Remember to assign the result to a variable (e.g., ```data```)\n",
        "- Apply ```.head()``` on the data to see all is as expected"
      ]
    },
    {
      "cell_type": "code",
      "execution_count": null,
      "id": "5ab67d67",
      "metadata": {
        "colab": {
          "base_uri": "https://localhost:8080/",
          "height": 331
        },
        "id": "5ab67d67",
        "outputId": "fe9e1020-0fbf-40e9-c1dc-56a4a57180db"
      },
      "outputs": [
        {
          "output_type": "execute_result",
          "data": {
            "text/plain": [
              "    MSSubClass  LotFrontage  LotArea  Street  LotShape  LandContour  \\\n",
              "Id                                                                    \n",
              "1           60         65.0     8450       1         3            3   \n",
              "2           20         80.0     9600       1         3            3   \n",
              "3           60         68.0    11250       1         2            3   \n",
              "4           70         60.0     9550       1         2            3   \n",
              "5           60         84.0    14260       1         2            3   \n",
              "\n",
              "    Utilities  LandSlope  OverallQual  OverallCond  ...  OpenPorchSF  \\\n",
              "Id                                                  ...                \n",
              "1           3          2            7            5  ...           61   \n",
              "2           3          2            6            8  ...            0   \n",
              "3           3          2            7            5  ...           42   \n",
              "4           3          2            7            5  ...           35   \n",
              "5           3          2            8            5  ...           84   \n",
              "\n",
              "    EnclosedPorch  3SsnPorch  ScreenPorch  PoolArea  PoolQC  MiscVal  MoSold  \\\n",
              "Id                                                                             \n",
              "1               0          0            0         0     NaN        0       2   \n",
              "2               0          0            0         0     NaN        0       5   \n",
              "3               0          0            0         0     NaN        0       9   \n",
              "4             272          0            0         0     NaN        0       2   \n",
              "5               0          0            0         0     NaN        0      12   \n",
              "\n",
              "    YrSold  SalePrice  \n",
              "Id                     \n",
              "1     2008     208500  \n",
              "2     2007     181500  \n",
              "3     2008     223500  \n",
              "4     2006     140000  \n",
              "5     2008     250000  \n",
              "\n",
              "[5 rows x 56 columns]"
            ],
            "text/html": [
              "\n",
              "  <div id=\"df-5a255fdc-2047-46d8-9398-d0335022ab3a\">\n",
              "    <div class=\"colab-df-container\">\n",
              "      <div>\n",
              "<style scoped>\n",
              "    .dataframe tbody tr th:only-of-type {\n",
              "        vertical-align: middle;\n",
              "    }\n",
              "\n",
              "    .dataframe tbody tr th {\n",
              "        vertical-align: top;\n",
              "    }\n",
              "\n",
              "    .dataframe thead th {\n",
              "        text-align: right;\n",
              "    }\n",
              "</style>\n",
              "<table border=\"1\" class=\"dataframe\">\n",
              "  <thead>\n",
              "    <tr style=\"text-align: right;\">\n",
              "      <th></th>\n",
              "      <th>MSSubClass</th>\n",
              "      <th>LotFrontage</th>\n",
              "      <th>LotArea</th>\n",
              "      <th>Street</th>\n",
              "      <th>LotShape</th>\n",
              "      <th>LandContour</th>\n",
              "      <th>Utilities</th>\n",
              "      <th>LandSlope</th>\n",
              "      <th>OverallQual</th>\n",
              "      <th>OverallCond</th>\n",
              "      <th>...</th>\n",
              "      <th>OpenPorchSF</th>\n",
              "      <th>EnclosedPorch</th>\n",
              "      <th>3SsnPorch</th>\n",
              "      <th>ScreenPorch</th>\n",
              "      <th>PoolArea</th>\n",
              "      <th>PoolQC</th>\n",
              "      <th>MiscVal</th>\n",
              "      <th>MoSold</th>\n",
              "      <th>YrSold</th>\n",
              "      <th>SalePrice</th>\n",
              "    </tr>\n",
              "    <tr>\n",
              "      <th>Id</th>\n",
              "      <th></th>\n",
              "      <th></th>\n",
              "      <th></th>\n",
              "      <th></th>\n",
              "      <th></th>\n",
              "      <th></th>\n",
              "      <th></th>\n",
              "      <th></th>\n",
              "      <th></th>\n",
              "      <th></th>\n",
              "      <th></th>\n",
              "      <th></th>\n",
              "      <th></th>\n",
              "      <th></th>\n",
              "      <th></th>\n",
              "      <th></th>\n",
              "      <th></th>\n",
              "      <th></th>\n",
              "      <th></th>\n",
              "      <th></th>\n",
              "      <th></th>\n",
              "    </tr>\n",
              "  </thead>\n",
              "  <tbody>\n",
              "    <tr>\n",
              "      <th>1</th>\n",
              "      <td>60</td>\n",
              "      <td>65.0</td>\n",
              "      <td>8450</td>\n",
              "      <td>1</td>\n",
              "      <td>3</td>\n",
              "      <td>3</td>\n",
              "      <td>3</td>\n",
              "      <td>2</td>\n",
              "      <td>7</td>\n",
              "      <td>5</td>\n",
              "      <td>...</td>\n",
              "      <td>61</td>\n",
              "      <td>0</td>\n",
              "      <td>0</td>\n",
              "      <td>0</td>\n",
              "      <td>0</td>\n",
              "      <td>NaN</td>\n",
              "      <td>0</td>\n",
              "      <td>2</td>\n",
              "      <td>2008</td>\n",
              "      <td>208500</td>\n",
              "    </tr>\n",
              "    <tr>\n",
              "      <th>2</th>\n",
              "      <td>20</td>\n",
              "      <td>80.0</td>\n",
              "      <td>9600</td>\n",
              "      <td>1</td>\n",
              "      <td>3</td>\n",
              "      <td>3</td>\n",
              "      <td>3</td>\n",
              "      <td>2</td>\n",
              "      <td>6</td>\n",
              "      <td>8</td>\n",
              "      <td>...</td>\n",
              "      <td>0</td>\n",
              "      <td>0</td>\n",
              "      <td>0</td>\n",
              "      <td>0</td>\n",
              "      <td>0</td>\n",
              "      <td>NaN</td>\n",
              "      <td>0</td>\n",
              "      <td>5</td>\n",
              "      <td>2007</td>\n",
              "      <td>181500</td>\n",
              "    </tr>\n",
              "    <tr>\n",
              "      <th>3</th>\n",
              "      <td>60</td>\n",
              "      <td>68.0</td>\n",
              "      <td>11250</td>\n",
              "      <td>1</td>\n",
              "      <td>2</td>\n",
              "      <td>3</td>\n",
              "      <td>3</td>\n",
              "      <td>2</td>\n",
              "      <td>7</td>\n",
              "      <td>5</td>\n",
              "      <td>...</td>\n",
              "      <td>42</td>\n",
              "      <td>0</td>\n",
              "      <td>0</td>\n",
              "      <td>0</td>\n",
              "      <td>0</td>\n",
              "      <td>NaN</td>\n",
              "      <td>0</td>\n",
              "      <td>9</td>\n",
              "      <td>2008</td>\n",
              "      <td>223500</td>\n",
              "    </tr>\n",
              "    <tr>\n",
              "      <th>4</th>\n",
              "      <td>70</td>\n",
              "      <td>60.0</td>\n",
              "      <td>9550</td>\n",
              "      <td>1</td>\n",
              "      <td>2</td>\n",
              "      <td>3</td>\n",
              "      <td>3</td>\n",
              "      <td>2</td>\n",
              "      <td>7</td>\n",
              "      <td>5</td>\n",
              "      <td>...</td>\n",
              "      <td>35</td>\n",
              "      <td>272</td>\n",
              "      <td>0</td>\n",
              "      <td>0</td>\n",
              "      <td>0</td>\n",
              "      <td>NaN</td>\n",
              "      <td>0</td>\n",
              "      <td>2</td>\n",
              "      <td>2006</td>\n",
              "      <td>140000</td>\n",
              "    </tr>\n",
              "    <tr>\n",
              "      <th>5</th>\n",
              "      <td>60</td>\n",
              "      <td>84.0</td>\n",
              "      <td>14260</td>\n",
              "      <td>1</td>\n",
              "      <td>2</td>\n",
              "      <td>3</td>\n",
              "      <td>3</td>\n",
              "      <td>2</td>\n",
              "      <td>8</td>\n",
              "      <td>5</td>\n",
              "      <td>...</td>\n",
              "      <td>84</td>\n",
              "      <td>0</td>\n",
              "      <td>0</td>\n",
              "      <td>0</td>\n",
              "      <td>0</td>\n",
              "      <td>NaN</td>\n",
              "      <td>0</td>\n",
              "      <td>12</td>\n",
              "      <td>2008</td>\n",
              "      <td>250000</td>\n",
              "    </tr>\n",
              "  </tbody>\n",
              "</table>\n",
              "<p>5 rows × 56 columns</p>\n",
              "</div>\n",
              "      <button class=\"colab-df-convert\" onclick=\"convertToInteractive('df-5a255fdc-2047-46d8-9398-d0335022ab3a')\"\n",
              "              title=\"Convert this dataframe to an interactive table.\"\n",
              "              style=\"display:none;\">\n",
              "        \n",
              "  <svg xmlns=\"http://www.w3.org/2000/svg\" height=\"24px\"viewBox=\"0 0 24 24\"\n",
              "       width=\"24px\">\n",
              "    <path d=\"M0 0h24v24H0V0z\" fill=\"none\"/>\n",
              "    <path d=\"M18.56 5.44l.94 2.06.94-2.06 2.06-.94-2.06-.94-.94-2.06-.94 2.06-2.06.94zm-11 1L8.5 8.5l.94-2.06 2.06-.94-2.06-.94L8.5 2.5l-.94 2.06-2.06.94zm10 10l.94 2.06.94-2.06 2.06-.94-2.06-.94-.94-2.06-.94 2.06-2.06.94z\"/><path d=\"M17.41 7.96l-1.37-1.37c-.4-.4-.92-.59-1.43-.59-.52 0-1.04.2-1.43.59L10.3 9.45l-7.72 7.72c-.78.78-.78 2.05 0 2.83L4 21.41c.39.39.9.59 1.41.59.51 0 1.02-.2 1.41-.59l7.78-7.78 2.81-2.81c.8-.78.8-2.07 0-2.86zM5.41 20L4 18.59l7.72-7.72 1.47 1.35L5.41 20z\"/>\n",
              "  </svg>\n",
              "      </button>\n",
              "      \n",
              "  <style>\n",
              "    .colab-df-container {\n",
              "      display:flex;\n",
              "      flex-wrap:wrap;\n",
              "      gap: 12px;\n",
              "    }\n",
              "\n",
              "    .colab-df-convert {\n",
              "      background-color: #E8F0FE;\n",
              "      border: none;\n",
              "      border-radius: 50%;\n",
              "      cursor: pointer;\n",
              "      display: none;\n",
              "      fill: #1967D2;\n",
              "      height: 32px;\n",
              "      padding: 0 0 0 0;\n",
              "      width: 32px;\n",
              "    }\n",
              "\n",
              "    .colab-df-convert:hover {\n",
              "      background-color: #E2EBFA;\n",
              "      box-shadow: 0px 1px 2px rgba(60, 64, 67, 0.3), 0px 1px 3px 1px rgba(60, 64, 67, 0.15);\n",
              "      fill: #174EA6;\n",
              "    }\n",
              "\n",
              "    [theme=dark] .colab-df-convert {\n",
              "      background-color: #3B4455;\n",
              "      fill: #D2E3FC;\n",
              "    }\n",
              "\n",
              "    [theme=dark] .colab-df-convert:hover {\n",
              "      background-color: #434B5C;\n",
              "      box-shadow: 0px 1px 3px 1px rgba(0, 0, 0, 0.15);\n",
              "      filter: drop-shadow(0px 1px 2px rgba(0, 0, 0, 0.3));\n",
              "      fill: #FFFFFF;\n",
              "    }\n",
              "  </style>\n",
              "\n",
              "      <script>\n",
              "        const buttonEl =\n",
              "          document.querySelector('#df-5a255fdc-2047-46d8-9398-d0335022ab3a button.colab-df-convert');\n",
              "        buttonEl.style.display =\n",
              "          google.colab.kernel.accessAllowed ? 'block' : 'none';\n",
              "\n",
              "        async function convertToInteractive(key) {\n",
              "          const element = document.querySelector('#df-5a255fdc-2047-46d8-9398-d0335022ab3a');\n",
              "          const dataTable =\n",
              "            await google.colab.kernel.invokeFunction('convertToInteractive',\n",
              "                                                     [key], {});\n",
              "          if (!dataTable) return;\n",
              "\n",
              "          const docLinkHtml = 'Like what you see? Visit the ' +\n",
              "            '<a target=\"_blank\" href=https://colab.research.google.com/notebooks/data_table.ipynb>data table notebook</a>'\n",
              "            + ' to learn more about interactive tables.';\n",
              "          element.innerHTML = '';\n",
              "          dataTable['output_type'] = 'display_data';\n",
              "          await google.colab.output.renderOutput(dataTable, element);\n",
              "          const docLink = document.createElement('div');\n",
              "          docLink.innerHTML = docLinkHtml;\n",
              "          element.appendChild(docLink);\n",
              "        }\n",
              "      </script>\n",
              "    </div>\n",
              "  </div>\n",
              "  "
            ]
          },
          "metadata": {},
          "execution_count": 3
        }
      ],
      "source": [
        "data = pd.read_parquet('house_sales.parquet')\n",
        "data.head()"
      ]
    },
    {
      "cell_type": "code",
      "execution_count": null,
      "id": "059e8bed",
      "metadata": {
        "colab": {
          "base_uri": "https://localhost:8080/"
        },
        "id": "059e8bed",
        "outputId": "741c8502-8de4-4107-ba44-5a2e8d975630"
      },
      "outputs": [
        {
          "output_type": "execute_result",
          "data": {
            "text/plain": [
              "1460"
            ]
          },
          "metadata": {},
          "execution_count": 4
        }
      ],
      "source": [
        "len(data)"
      ]
    },
    {
      "cell_type": "markdown",
      "id": "a2377dd7",
      "metadata": {
        "id": "a2377dd7"
      },
      "source": [
        "### Step 1.c: Inspect the data\n",
        "- Check the number of rows and columns\n",
        "    - HINT: `.shape`"
      ]
    },
    {
      "cell_type": "code",
      "execution_count": null,
      "id": "bfed6186",
      "metadata": {
        "colab": {
          "base_uri": "https://localhost:8080/"
        },
        "id": "bfed6186",
        "outputId": "8fc04c89-8e79-432a-c9a4-a44120b9fe71"
      },
      "outputs": [
        {
          "output_type": "execute_result",
          "data": {
            "text/plain": [
              "(1460, 56)"
            ]
          },
          "metadata": {},
          "execution_count": 5
        }
      ],
      "source": [
        "data.shape"
      ]
    },
    {
      "cell_type": "markdown",
      "id": "3bec949d",
      "metadata": {
        "id": "3bec949d"
      },
      "source": [
        "## Step 2: Prepare\n",
        "- Explore data\n",
        "- Visualize ideas\n",
        "- Cleaning data"
      ]
    },
    {
      "cell_type": "markdown",
      "id": "6a5d948d",
      "metadata": {
        "id": "6a5d948d"
      },
      "source": [
        "### Step 2.a: Check the data types\n",
        "- This step tells you if some numeric column is not represented numeric.\n",
        "- Get the data types by ```.dtypes```"
      ]
    },
    {
      "cell_type": "code",
      "execution_count": null,
      "id": "3858065d",
      "metadata": {
        "colab": {
          "base_uri": "https://localhost:8080/"
        },
        "id": "3858065d",
        "outputId": "986b0688-bf61-451d-8a5b-d7dde3c33a3f"
      },
      "outputs": [
        {
          "output_type": "execute_result",
          "data": {
            "text/plain": [
              "MSSubClass         int64\n",
              "LotFrontage      float64\n",
              "LotArea            int64\n",
              "Street             int64\n",
              "LotShape           int64\n",
              "LandContour        int64\n",
              "Utilities          int64\n",
              "LandSlope          int64\n",
              "OverallQual        int64\n",
              "OverallCond        int64\n",
              "YearBuilt          int64\n",
              "YearRemodAdd       int64\n",
              "MasVnrArea       float64\n",
              "ExterQual          int64\n",
              "ExterCond          int64\n",
              "BsmtQual         float64\n",
              "BsmtCond         float64\n",
              "BsmtExposure     float64\n",
              "BsmtFinType1     float64\n",
              "BsmtFinSF1         int64\n",
              "BsmtFinType2     float64\n",
              "BsmtFinSF2         int64\n",
              "BsmtUnfSF          int64\n",
              "TotalBsmtSF        int64\n",
              "HeatingQC          int64\n",
              "CentralAir         int64\n",
              "1stFlrSF           int64\n",
              "2ndFlrSF           int64\n",
              "LowQualFinSF       int64\n",
              "GrLivArea          int64\n",
              "BsmtFullBath       int64\n",
              "BsmtHalfBath       int64\n",
              "FullBath           int64\n",
              "HalfBath           int64\n",
              "BedroomAbvGr       int64\n",
              "KitchenAbvGr       int64\n",
              "KitchenQual        int64\n",
              "TotRmsAbvGrd       int64\n",
              "Fireplaces         int64\n",
              "FireplaceQu      float64\n",
              "GarageYrBlt      float64\n",
              "GarageCars         int64\n",
              "GarageArea         int64\n",
              "GarageQual       float64\n",
              "GarageCond       float64\n",
              "WoodDeckSF         int64\n",
              "OpenPorchSF        int64\n",
              "EnclosedPorch      int64\n",
              "3SsnPorch          int64\n",
              "ScreenPorch        int64\n",
              "PoolArea           int64\n",
              "PoolQC           float64\n",
              "MiscVal            int64\n",
              "MoSold             int64\n",
              "YrSold             int64\n",
              "SalePrice          int64\n",
              "dtype: object"
            ]
          },
          "metadata": {},
          "execution_count": 6
        }
      ],
      "source": [
        "data.dtypes"
      ]
    },
    {
      "cell_type": "markdown",
      "id": "2867789a",
      "metadata": {
        "id": "2867789a"
      },
      "source": [
        "### Step 2.b: Check for null (missing) values\n",
        "- Let's check if any features are not valuable\n",
        "- Use ```.info()```\n",
        "- Should we remove any?\n",
        "    - You can remove features (columns):\n",
        "    ```Python\n",
        "data.drop([<column_name>, ..., <column_name>], axis=1)\n",
        "```"
      ]
    },
    {
      "cell_type": "code",
      "execution_count": null,
      "id": "58e2e31c",
      "metadata": {
        "colab": {
          "base_uri": "https://localhost:8080/"
        },
        "id": "58e2e31c",
        "outputId": "8285aa18-d9c1-45e0-e77e-a121c1e562dd"
      },
      "outputs": [
        {
          "output_type": "stream",
          "name": "stdout",
          "text": [
            "<class 'pandas.core.frame.DataFrame'>\n",
            "Int64Index: 1460 entries, 1 to 1460\n",
            "Data columns (total 56 columns):\n",
            " #   Column         Non-Null Count  Dtype  \n",
            "---  ------         --------------  -----  \n",
            " 0   MSSubClass     1460 non-null   int64  \n",
            " 1   LotFrontage    1201 non-null   float64\n",
            " 2   LotArea        1460 non-null   int64  \n",
            " 3   Street         1460 non-null   int64  \n",
            " 4   LotShape       1460 non-null   int64  \n",
            " 5   LandContour    1460 non-null   int64  \n",
            " 6   Utilities      1460 non-null   int64  \n",
            " 7   LandSlope      1460 non-null   int64  \n",
            " 8   OverallQual    1460 non-null   int64  \n",
            " 9   OverallCond    1460 non-null   int64  \n",
            " 10  YearBuilt      1460 non-null   int64  \n",
            " 11  YearRemodAdd   1460 non-null   int64  \n",
            " 12  MasVnrArea     1452 non-null   float64\n",
            " 13  ExterQual      1460 non-null   int64  \n",
            " 14  ExterCond      1460 non-null   int64  \n",
            " 15  BsmtQual       1423 non-null   float64\n",
            " 16  BsmtCond       1423 non-null   float64\n",
            " 17  BsmtExposure   1422 non-null   float64\n",
            " 18  BsmtFinType1   1423 non-null   float64\n",
            " 19  BsmtFinSF1     1460 non-null   int64  \n",
            " 20  BsmtFinType2   1422 non-null   float64\n",
            " 21  BsmtFinSF2     1460 non-null   int64  \n",
            " 22  BsmtUnfSF      1460 non-null   int64  \n",
            " 23  TotalBsmtSF    1460 non-null   int64  \n",
            " 24  HeatingQC      1460 non-null   int64  \n",
            " 25  CentralAir     1460 non-null   int64  \n",
            " 26  1stFlrSF       1460 non-null   int64  \n",
            " 27  2ndFlrSF       1460 non-null   int64  \n",
            " 28  LowQualFinSF   1460 non-null   int64  \n",
            " 29  GrLivArea      1460 non-null   int64  \n",
            " 30  BsmtFullBath   1460 non-null   int64  \n",
            " 31  BsmtHalfBath   1460 non-null   int64  \n",
            " 32  FullBath       1460 non-null   int64  \n",
            " 33  HalfBath       1460 non-null   int64  \n",
            " 34  BedroomAbvGr   1460 non-null   int64  \n",
            " 35  KitchenAbvGr   1460 non-null   int64  \n",
            " 36  KitchenQual    1460 non-null   int64  \n",
            " 37  TotRmsAbvGrd   1460 non-null   int64  \n",
            " 38  Fireplaces     1460 non-null   int64  \n",
            " 39  FireplaceQu    770 non-null    float64\n",
            " 40  GarageYrBlt    1379 non-null   float64\n",
            " 41  GarageCars     1460 non-null   int64  \n",
            " 42  GarageArea     1460 non-null   int64  \n",
            " 43  GarageQual     1379 non-null   float64\n",
            " 44  GarageCond     1379 non-null   float64\n",
            " 45  WoodDeckSF     1460 non-null   int64  \n",
            " 46  OpenPorchSF    1460 non-null   int64  \n",
            " 47  EnclosedPorch  1460 non-null   int64  \n",
            " 48  3SsnPorch      1460 non-null   int64  \n",
            " 49  ScreenPorch    1460 non-null   int64  \n",
            " 50  PoolArea       1460 non-null   int64  \n",
            " 51  PoolQC         7 non-null      float64\n",
            " 52  MiscVal        1460 non-null   int64  \n",
            " 53  MoSold         1460 non-null   int64  \n",
            " 54  YrSold         1460 non-null   int64  \n",
            " 55  SalePrice      1460 non-null   int64  \n",
            "dtypes: float64(12), int64(44)\n",
            "memory usage: 650.2 KB\n"
          ]
        }
      ],
      "source": [
        "data.info()"
      ]
    },
    {
      "cell_type": "code",
      "execution_count": null,
      "id": "9fe1120f",
      "metadata": {
        "id": "9fe1120f"
      },
      "outputs": [],
      "source": [
        "data = data.drop('PoolQC', axis = 1)"
      ]
    },
    {
      "cell_type": "markdown",
      "id": "8cc1cabe",
      "metadata": {
        "id": "8cc1cabe"
      },
      "source": [
        "## Step 3: Analyze\n",
        "- Feature selection\n",
        "- Model selection\n",
        "- Analyze data"
      ]
    },
    {
      "cell_type": "markdown",
      "id": "5607dc7a",
      "metadata": {
        "id": "5607dc7a"
      },
      "source": [
        "### Step 3.a: Quasi constant features\n",
        "- Let see if there are any quasi features\n",
        "- Create a `VarianceThreshold(threshold=0.01)` and fit it\n",
        "- The features that are not quasi constant are given by `sel.get_feature_names_out()`\n",
        "- Get all the qausi features as with list comprehension"
      ]
    },
    {
      "cell_type": "code",
      "execution_count": null,
      "id": "f73d66cc",
      "metadata": {
        "colab": {
          "base_uri": "https://localhost:8080/"
        },
        "id": "f73d66cc",
        "outputId": "2d9ed354-47fe-4f4e-f1ab-c391e29ed1a2"
      },
      "outputs": [
        {
          "output_type": "execute_result",
          "data": {
            "text/plain": [
              "VarianceThreshold(threshold=0.01)"
            ]
          },
          "metadata": {},
          "execution_count": 9
        }
      ],
      "source": [
        "sel = VarianceThreshold(threshold=0.01)\n",
        "sel.fit(data)"
      ]
    },
    {
      "cell_type": "code",
      "execution_count": null,
      "id": "9e6eacad",
      "metadata": {
        "colab": {
          "base_uri": "https://localhost:8080/"
        },
        "id": "9e6eacad",
        "outputId": "430cbff1-a0b0-4bbc-b689-0369d3cb3075"
      },
      "outputs": [
        {
          "output_type": "execute_result",
          "data": {
            "text/plain": [
              "53"
            ]
          },
          "metadata": {},
          "execution_count": 10
        }
      ],
      "source": [
        "len(sel.get_feature_names_out())"
      ]
    },
    {
      "cell_type": "code",
      "execution_count": null,
      "id": "9c815174",
      "metadata": {
        "colab": {
          "base_uri": "https://localhost:8080/"
        },
        "id": "9c815174",
        "outputId": "98673bd5-87c8-4b90-b73b-ed89ca997e22"
      },
      "outputs": [
        {
          "output_type": "execute_result",
          "data": {
            "text/plain": [
              "['Street', 'Utilities']"
            ]
          },
          "metadata": {},
          "execution_count": 11
        }
      ],
      "source": [
        "quasi_feature = [col for col in data.columns if col not in sel.get_feature_names_out()]\n",
        "quasi_feature"
      ]
    },
    {
      "cell_type": "markdown",
      "id": "8c0a2914",
      "metadata": {
        "id": "8c0a2914"
      },
      "source": [
        "### Step 3.b: Correlated features\n",
        "- Calculate the correlation matrix `corr_matrix` and inspect it\n",
        "    - HINT: use `.corr()`\n",
        "- Get all the correlated features\n",
        "    - HINT: A feature is correlated to a feature before it if\n",
        "```Python\n",
        "(corr_matrix[feature].iloc[:corr_matrix.columns.get_loc(feature)] > 0.8).any()\n",
        "```\n",
        "    - HINT: Use list comprehension to get a list of the correlated features"
      ]
    },
    {
      "cell_type": "code",
      "execution_count": null,
      "id": "86299488",
      "metadata": {
        "id": "86299488"
      },
      "outputs": [],
      "source": [
        "corr_matrix = data.corr()"
      ]
    },
    {
      "cell_type": "code",
      "execution_count": null,
      "id": "54927e92",
      "metadata": {
        "colab": {
          "base_uri": "https://localhost:8080/"
        },
        "id": "54927e92",
        "outputId": "99592e8d-1900-460e-8c64-1aabb4a8250a"
      },
      "outputs": [
        {
          "output_type": "execute_result",
          "data": {
            "text/plain": [
              "['BsmtFinSF2', '1stFlrSF', 'TotRmsAbvGrd', 'GarageYrBlt', 'GarageArea']"
            ]
          },
          "metadata": {},
          "execution_count": 13
        }
      ],
      "source": [
        "corr_features = [feature for feature in corr_matrix.columns if (corr_matrix[feature].iloc[:corr_matrix.columns.get_loc(feature)] > 0.8).any()]\n",
        "corr_features"
      ]
    },
    {
      "cell_type": "markdown",
      "id": "9d467d87",
      "metadata": {
        "id": "9d467d87"
      },
      "source": [
        "### Step 3.c: Prepare training and test set\n",
        "- Create 3 categorical price ranges using `qcut`\n",
        "    - HINT: `pd.qcut(data['SalePrice'], q=3, labels=[1, 2, 3])`\n",
        "- Assign all features in `X`\n",
        "    - HINT: Use `.drop(['SalePrice', 'Target'] + quasi_features + corr_features, axis=1)`\n",
        "        - (assuming the same naming)\n",
        "- Assign the target to `y`\n",
        "    - HINT: The target is column `Target`\n",
        "- Split into train and test using `train_test_split`"
      ]
    },
    {
      "cell_type": "code",
      "execution_count": null,
      "id": "c889eb29",
      "metadata": {
        "id": "c889eb29"
      },
      "outputs": [],
      "source": [
        "data['Target'] = pd.qcut(data['SalePrice'], q=3, labels=[1, 2, 3])"
      ]
    },
    {
      "cell_type": "code",
      "execution_count": null,
      "id": "18f78061",
      "metadata": {
        "id": "18f78061"
      },
      "outputs": [],
      "source": [
        "X = data.drop(['SalePrice', 'Target'] + quasi_feature + corr_features, axis = 1).fillna(-1)\n",
        "y = data['Target']\n",
        "\n",
        "X_train, X_test, y_train, y_test = train_test_split(X, y, test_size = .2, random_state = 42)"
      ]
    },
    {
      "cell_type": "markdown",
      "id": "07cbff2f",
      "metadata": {
        "id": "07cbff2f"
      },
      "source": [
        "### Step 3.d: 10 best features for KNeighborsClassifier model\n",
        "- Use the `SFS` to find 10 best features for a `KNeighborsClassifier` model\n",
        "    - HINT: `SFS(KNeighborsClassifier(), k_features=10, verbose=2)`\n",
        "    - HINT: when fitting fill missing values or remove them\n",
        "        - Notice: ideally we would investigate them further to find appropriate values\n",
        "- You get the best feature index from `.k_feature_idx_`"
      ]
    },
    {
      "cell_type": "code",
      "execution_count": null,
      "id": "1488f55d",
      "metadata": {
        "colab": {
          "base_uri": "https://localhost:8080/"
        },
        "id": "1488f55d",
        "outputId": "8810d53f-a878-4c67-f8ac-55d6738ab9fd"
      },
      "outputs": [
        {
          "output_type": "stream",
          "name": "stderr",
          "text": [
            "[Parallel(n_jobs=1)]: Using backend SequentialBackend with 1 concurrent workers.\n",
            "[Parallel(n_jobs=1)]: Done   1 out of   1 | elapsed:    0.0s remaining:    0.0s\n",
            "[Parallel(n_jobs=1)]: Done  47 out of  47 | elapsed:    2.0s finished\n",
            "\n",
            "[2023-02-19 11:29:15] Features: 1/10 -- score: 0.5872968709878581[Parallel(n_jobs=1)]: Using backend SequentialBackend with 1 concurrent workers.\n",
            "[Parallel(n_jobs=1)]: Done   1 out of   1 | elapsed:    0.0s remaining:    0.0s\n",
            "[Parallel(n_jobs=1)]: Done  46 out of  46 | elapsed:    1.6s finished\n",
            "\n",
            "[2023-02-19 11:29:17] Features: 2/10 -- score: 0.6832104471589451[Parallel(n_jobs=1)]: Using backend SequentialBackend with 1 concurrent workers.\n",
            "[Parallel(n_jobs=1)]: Done   1 out of   1 | elapsed:    0.1s remaining:    0.0s\n",
            "[Parallel(n_jobs=1)]: Done  45 out of  45 | elapsed:    1.7s finished\n",
            "\n",
            "[2023-02-19 11:29:19] Features: 3/10 -- score: 0.7140383698323612[Parallel(n_jobs=1)]: Using backend SequentialBackend with 1 concurrent workers.\n",
            "[Parallel(n_jobs=1)]: Done   1 out of   1 | elapsed:    0.0s remaining:    0.0s\n",
            "[Parallel(n_jobs=1)]: Done  44 out of  44 | elapsed:    1.7s finished\n",
            "\n",
            "[2023-02-19 11:29:20] Features: 4/10 -- score: 0.7183228788379002[Parallel(n_jobs=1)]: Using backend SequentialBackend with 1 concurrent workers.\n",
            "[Parallel(n_jobs=1)]: Done   1 out of   1 | elapsed:    0.0s remaining:    0.0s\n",
            "[Parallel(n_jobs=1)]: Done  43 out of  43 | elapsed:    2.1s finished\n",
            "\n",
            "[2023-02-19 11:29:22] Features: 5/10 -- score: 0.7302886908037123[Parallel(n_jobs=1)]: Using backend SequentialBackend with 1 concurrent workers.\n",
            "[Parallel(n_jobs=1)]: Done   1 out of   1 | elapsed:    0.1s remaining:    0.0s\n",
            "[Parallel(n_jobs=1)]: Done  42 out of  42 | elapsed:    4.1s finished\n",
            "\n",
            "[2023-02-19 11:29:26] Features: 6/10 -- score: 0.7397344191335607[Parallel(n_jobs=1)]: Using backend SequentialBackend with 1 concurrent workers.\n",
            "[Parallel(n_jobs=1)]: Done   1 out of   1 | elapsed:    0.1s remaining:    0.0s\n",
            "[Parallel(n_jobs=1)]: Done  41 out of  41 | elapsed:    3.3s finished\n",
            "\n",
            "[2023-02-19 11:29:30] Features: 7/10 -- score: 0.7500385165621217[Parallel(n_jobs=1)]: Using backend SequentialBackend with 1 concurrent workers.\n",
            "[Parallel(n_jobs=1)]: Done   1 out of   1 | elapsed:    0.1s remaining:    0.0s\n",
            "[Parallel(n_jobs=1)]: Done  40 out of  40 | elapsed:    2.8s finished\n",
            "\n",
            "[2023-02-19 11:29:33] Features: 8/10 -- score: 0.7560250907890393[Parallel(n_jobs=1)]: Using backend SequentialBackend with 1 concurrent workers.\n",
            "[Parallel(n_jobs=1)]: Done   1 out of   1 | elapsed:    0.0s remaining:    0.0s\n",
            "[Parallel(n_jobs=1)]: Done  39 out of  39 | elapsed:    1.4s finished\n",
            "\n",
            "[2023-02-19 11:29:34] Features: 9/10 -- score: 0.7611422911852096[Parallel(n_jobs=1)]: Using backend SequentialBackend with 1 concurrent workers.\n",
            "[Parallel(n_jobs=1)]: Done   1 out of   1 | elapsed:    0.0s remaining:    0.0s\n",
            "[Parallel(n_jobs=1)]: Done  38 out of  38 | elapsed:    1.8s finished\n",
            "\n",
            "[2023-02-19 11:29:36] Features: 10/10 -- score: 0.7731227761270679"
          ]
        },
        {
          "output_type": "execute_result",
          "data": {
            "text/plain": [
              "SequentialFeatureSelector(estimator=KNeighborsClassifier(), k_features=(10, 10),\n",
              "                          scoring='accuracy', verbose=2)"
            ]
          },
          "metadata": {},
          "execution_count": 16
        }
      ],
      "source": [
        "sfs = SFS(KNeighborsClassifier(), k_features = 10, verbose = 2)\n",
        "sfs.fit(X_train, y_train)"
      ]
    },
    {
      "cell_type": "code",
      "source": [
        "sfs.k_feature_idx_"
      ],
      "metadata": {
        "colab": {
          "base_uri": "https://localhost:8080/"
        },
        "id": "ZEl59T2O2bkh",
        "outputId": "5cb2a0e0-4427-4749-d4c8-4c8c9770001b"
      },
      "id": "ZEl59T2O2bkh",
      "execution_count": null,
      "outputs": [
        {
          "output_type": "execute_result",
          "data": {
            "text/plain": [
              "(0, 3, 6, 14, 26, 28, 29, 32, 33, 35)"
            ]
          },
          "metadata": {},
          "execution_count": 17
        }
      ]
    },
    {
      "cell_type": "markdown",
      "id": "b9d5f3fa",
      "metadata": {
        "id": "b9d5f3fa"
      },
      "source": [
        "### Step 3.e: Explore the features\n",
        "- Let's try to explore the features\n",
        "    - HINT: The features can be accessed by `sfs.k_feature_idx_`\n",
        "    - HINT: Get the feature names by: `X_train.columns[list(sfs.k_feature_idx_)]`\n",
        "- Try to list them according to correlation score\n",
        "    - HINT: This is a bit more advanced Python\n",
        "\n",
        "```Python\n",
        "for item in X_train.columns[list(sfs.k_feature_idx_)]:\n",
        "    loc = corr_matrix['SalePrice'].sort_values(ascending=False).index.get_loc(item)\n",
        "    print(item, loc)\n",
        "```\n",
        "- Does the result surprise you?\n",
        "- Does it change your recommendations?"
      ]
    },
    {
      "cell_type": "code",
      "execution_count": null,
      "id": "8ebd7b4b",
      "metadata": {
        "colab": {
          "base_uri": "https://localhost:8080/"
        },
        "id": "8ebd7b4b",
        "outputId": "1f3c58e3-22cd-4107-aeaf-087d62345c5d"
      },
      "outputs": [
        {
          "output_type": "execute_result",
          "data": {
            "text/plain": [
              "Index(['MSSubClass', 'LotShape', 'OverallQual', 'BsmtCond', 'BsmtFullBath',\n",
              "       'FullBath', 'HalfBath', 'KitchenQual', 'Fireplaces', 'GarageCars'],\n",
              "      dtype='object')"
            ]
          },
          "metadata": {},
          "execution_count": 18
        }
      ],
      "source": [
        "X_train.columns[list(sfs.k_feature_idx_)]"
      ]
    },
    {
      "cell_type": "code",
      "execution_count": null,
      "id": "56a71661",
      "metadata": {
        "colab": {
          "base_uri": "https://localhost:8080/"
        },
        "id": "56a71661",
        "outputId": "b5c90b55-ca87-4fb6-a0b4-a19917f49e3a"
      },
      "outputs": [
        {
          "output_type": "stream",
          "name": "stdout",
          "text": [
            "MSSubClass 51\n",
            "LotShape 54\n",
            "OverallQual 1\n",
            "BsmtCond 32\n",
            "BsmtFullBath 29\n",
            "FullBath 10\n",
            "HalfBath 25\n",
            "KitchenQual 4\n",
            "Fireplaces 16\n",
            "GarageCars 6\n"
          ]
        }
      ],
      "source": [
        "for item in X_train.columns[list(sfs.k_feature_idx_)]:\n",
        "    loc = corr_matrix['SalePrice'].sort_values(ascending=False).index.get_loc(item)\n",
        "    print(item, loc)"
      ]
    },
    {
      "cell_type": "code",
      "source": [
        "quasi_feature"
      ],
      "metadata": {
        "colab": {
          "base_uri": "https://localhost:8080/"
        },
        "id": "DbL5pWivdib8",
        "outputId": "1cc3d014-dbab-488e-b88e-6f616c49ff1c"
      },
      "id": "DbL5pWivdib8",
      "execution_count": null,
      "outputs": [
        {
          "output_type": "execute_result",
          "data": {
            "text/plain": [
              "['Street', 'Utilities']"
            ]
          },
          "metadata": {},
          "execution_count": 22
        }
      ]
    },
    {
      "cell_type": "code",
      "source": [
        "corr_features"
      ],
      "metadata": {
        "colab": {
          "base_uri": "https://localhost:8080/"
        },
        "id": "aH37rtB9dnF2",
        "outputId": "86afd597-a9d4-4bfb-9144-19a4ce618722"
      },
      "id": "aH37rtB9dnF2",
      "execution_count": null,
      "outputs": [
        {
          "output_type": "execute_result",
          "data": {
            "text/plain": [
              "['BsmtFinSF2', '1stFlrSF', 'TotRmsAbvGrd', 'GarageYrBlt', 'GarageArea']"
            ]
          },
          "metadata": {},
          "execution_count": 23
        }
      ]
    },
    {
      "cell_type": "code",
      "source": [
        "data = data.drop(columns = ['Street', 'Utilities','BsmtFinSF2', '1stFlrSF', 'TotRmsAbvGrd', 'GarageYrBlt', 'GarageArea'])"
      ],
      "metadata": {
        "id": "9Ue4PHLQeLwl"
      },
      "id": "9Ue4PHLQeLwl",
      "execution_count": null,
      "outputs": []
    },
    {
      "cell_type": "code",
      "execution_count": null,
      "id": "69516789",
      "metadata": {
        "colab": {
          "base_uri": "https://localhost:8080/"
        },
        "id": "69516789",
        "outputId": "f141872d-8f6a-454e-b48a-b86f69ab458f"
      },
      "outputs": [
        {
          "output_type": "execute_result",
          "data": {
            "text/plain": [
              "SalePrice        1.000000\n",
              "OverallQual      0.790982\n",
              "GrLivArea        0.708624\n",
              "ExterQual        0.682639\n",
              "KitchenQual      0.659600\n",
              "BsmtQual         0.644019\n",
              "GarageCars       0.640409\n",
              "GarageArea       0.623431\n",
              "TotalBsmtSF      0.613581\n",
              "1stFlrSF         0.605852\n",
              "FullBath         0.560664\n",
              "TotRmsAbvGrd     0.533723\n",
              "YearBuilt        0.522897\n",
              "YearRemodAdd     0.507101\n",
              "GarageYrBlt      0.486362\n",
              "MasVnrArea       0.477493\n",
              "Fireplaces       0.466929\n",
              "HeatingQC        0.427649\n",
              "BsmtFinSF1       0.386420\n",
              "BsmtExposure     0.352958\n",
              "LotFrontage      0.351799\n",
              "WoodDeckSF       0.324413\n",
              "2ndFlrSF         0.319334\n",
              "OpenPorchSF      0.315856\n",
              "FireplaceQu      0.295794\n",
              "HalfBath         0.284108\n",
              "BsmtFinType1     0.277436\n",
              "LotArea          0.263843\n",
              "CentralAir       0.251328\n",
              "BsmtFullBath     0.227122\n",
              "BsmtUnfSF        0.214479\n",
              "BedroomAbvGr     0.168213\n",
              "BsmtCond         0.160658\n",
              "GarageQual       0.156693\n",
              "GarageCond       0.125013\n",
              "ScreenPorch      0.111447\n",
              "PoolArea         0.092404\n",
              "MoSold           0.046432\n",
              "3SsnPorch        0.044584\n",
              "Street           0.041036\n",
              "ExterCond        0.018899\n",
              "Utilities        0.014314\n",
              "BsmtFinSF2      -0.011378\n",
              "BsmtHalfBath    -0.016844\n",
              "MiscVal         -0.021190\n",
              "LowQualFinSF    -0.025606\n",
              "YrSold          -0.028923\n",
              "BsmtFinType2    -0.040139\n",
              "LandContour     -0.046368\n",
              "LandSlope       -0.051152\n",
              "OverallCond     -0.077856\n",
              "MSSubClass      -0.084284\n",
              "EnclosedPorch   -0.128578\n",
              "KitchenAbvGr    -0.135907\n",
              "LotShape        -0.267759\n",
              "Name: SalePrice, dtype: float64"
            ]
          },
          "metadata": {},
          "execution_count": 35
        }
      ],
      "source": [
        "corr_matrix['SalePrice'].sort_values(ascending=False)"
      ]
    },
    {
      "cell_type": "markdown",
      "id": "98a71ee2",
      "metadata": {
        "id": "98a71ee2"
      },
      "source": [
        "## Step 4: Report\n",
        "- Present findings\n",
        "- Visualize results\n",
        "- Credibility counts"
      ]
    },
    {
      "cell_type": "markdown",
      "id": "1d51d38f",
      "metadata": {
        "id": "1d51d38f"
      },
      "source": [
        "### Step 4.a: Present findings\n",
        "- Use the analysis from Step 3 to figures out how to present your findings\n",
        "- Try to think how the real estate dealer can use these findings"
      ]
    },
    {
      "cell_type": "code",
      "execution_count": null,
      "id": "efbe6a8b",
      "metadata": {
        "id": "efbe6a8b"
      },
      "outputs": [],
      "source": []
    },
    {
      "cell_type": "code",
      "execution_count": null,
      "id": "d7a8be52",
      "metadata": {
        "id": "d7a8be52"
      },
      "outputs": [],
      "source": []
    },
    {
      "cell_type": "markdown",
      "id": "65c865f1",
      "metadata": {
        "id": "65c865f1"
      },
      "source": [
        "## Step 5: Actions\n",
        "- Use insights\n",
        "- Measure impact\n",
        "- Main goal"
      ]
    },
    {
      "cell_type": "markdown",
      "id": "34cd3598",
      "metadata": {
        "id": "34cd3598"
      },
      "source": [
        "### Step 5.a: Measure impact\n",
        "- Can we help the dealer to use these insights?"
      ]
    },
    {
      "cell_type": "code",
      "execution_count": null,
      "id": "f501ed4d",
      "metadata": {
        "id": "f501ed4d"
      },
      "outputs": [],
      "source": []
    },
    {
      "cell_type": "code",
      "execution_count": null,
      "id": "f919047e",
      "metadata": {
        "id": "f919047e"
      },
      "outputs": [],
      "source": []
    }
  ],
  "metadata": {
    "kernelspec": {
      "display_name": "Python 3 (ipykernel)",
      "language": "python",
      "name": "python3"
    },
    "language_info": {
      "codemirror_mode": {
        "name": "ipython",
        "version": 3
      },
      "file_extension": ".py",
      "mimetype": "text/x-python",
      "name": "python",
      "nbconvert_exporter": "python",
      "pygments_lexer": "ipython3",
      "version": "3.9.12"
    },
    "colab": {
      "provenance": [],
      "include_colab_link": true
    }
  },
  "nbformat": 4,
  "nbformat_minor": 5
}